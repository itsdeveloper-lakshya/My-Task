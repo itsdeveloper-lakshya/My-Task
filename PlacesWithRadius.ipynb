{
 "cells": [
  {
   "cell_type": "code",
   "execution_count": 1,
   "id": "b0a4e90a",
   "metadata": {},
   "outputs": [
    {
     "name": "stdout",
     "output_type": "stream",
     "text": [
      "Requirement already satisfied: geopy in c:\\users\\gupta\\anaconda3\\lib\\site-packages (2.4.1)\n",
      "Requirement already satisfied: requests in c:\\users\\gupta\\anaconda3\\lib\\site-packages (2.31.0)\n",
      "Requirement already satisfied: haversine in c:\\users\\gupta\\anaconda3\\lib\\site-packages (2.8.1)\n",
      "Requirement already satisfied: geographiclib<3,>=1.52 in c:\\users\\gupta\\anaconda3\\lib\\site-packages (from geopy) (2.0)\n",
      "Requirement already satisfied: charset-normalizer<4,>=2 in c:\\users\\gupta\\anaconda3\\lib\\site-packages (from requests) (2.0.4)\n",
      "Requirement already satisfied: idna<4,>=2.5 in c:\\users\\gupta\\anaconda3\\lib\\site-packages (from requests) (3.4)\n",
      "Requirement already satisfied: urllib3<3,>=1.21.1 in c:\\users\\gupta\\anaconda3\\lib\\site-packages (from requests) (2.0.7)\n",
      "Requirement already satisfied: certifi>=2017.4.17 in c:\\users\\gupta\\anaconda3\\lib\\site-packages (from requests) (2023.7.22)\n",
      "Note: you may need to restart the kernel to use updated packages.\n"
     ]
    }
   ],
   "source": [
    "pip install geopy requests haversine\n"
   ]
  },
  {
   "cell_type": "code",
   "execution_count": 2,
   "id": "c99af0c0",
   "metadata": {},
   "outputs": [
    {
     "name": "stdout",
     "output_type": "stream",
     "text": [
      "Enter your location: Anand Vihar , Delhi\n",
      "User location coordinates: (28.646841, 77.3160332)\n",
      "Enter the radius in kilometers: 1\n",
      "Places within 1.0 km of Anand Vihar , Delhi:\n",
      "Name: Indian Oil Petrol Pump, Amenity: fuel, Coordinates: (28.6438531, 77.3170505)\n",
      "Name: PVR EDM, Amenity: cinema, Coordinates: (28.6413995, 77.3167886)\n",
      "Name: Bank of Baroda, Amenity: bank, Coordinates: (28.6434776, 77.3228108)\n",
      "Name: Vikas Mediacl Store, Amenity: pharmacy, Coordinates: (28.6408743, 77.3204776)\n",
      "Name: McDonald's, Amenity: fast_food, Coordinates: (28.6411341, 77.3173047)\n",
      "Name: BIG Pacific, Amenity: cinema, Coordinates: (28.6464211, 77.3196597)\n",
      "Name: Unnamed, Amenity: toilets, Coordinates: (28.6463374, 77.3160482)\n",
      "Name: Unnamed, Amenity: toilets, Coordinates: (28.6469122, 77.3166536)\n",
      "Name: Cafe Buddy's, Amenity: fast_food, Coordinates: (28.6469827, 77.3160371)\n",
      "Name: Unnamed, Amenity: toilets, Coordinates: (28.6465523, 77.3144625)\n",
      "Name: Unnamed, Amenity: drinking_water, Coordinates: (28.6464168, 77.315127)\n",
      "Name: Unnamed, Amenity: toilets, Coordinates: (28.6467815, 77.3147684)\n",
      "Name: Unnamed, Amenity: drinking_water, Coordinates: (28.6460321, 77.3154859)\n",
      "Name: Lions Blood Bank, East Delhi, Amenity: blood_bank, Coordinates: (28.6412639, 77.3094684)\n",
      "Name: Kamal Hospital, Ghaziabad, Amenity: hospital, Coordinates: (28.6446849, 77.3253943)\n",
      "Name: Sugam Toilet, Amenity: toilets, Coordinates: (28.6452166, 77.3192722)\n",
      "Name: Unnamed, Amenity: toilets, Coordinates: (28.6492843, 77.3061935)\n",
      "Name: Unnamed, Amenity: toilets, Coordinates: (28.6478347, 77.3147513)\n",
      "Name: Unnamed, Amenity: toilets, Coordinates: (28.6475459, 77.3155973)\n",
      "Name: Unnamed, Amenity: waste_basket, Coordinates: (28.6470655, 77.3147917)\n",
      "Name: Unnamed, Amenity: atm, Coordinates: (28.6488616, 77.3162571)\n",
      "Name: Unnamed, Amenity: toilets, Coordinates: (28.6465343, 77.3179747)\n",
      "Name: Unnamed, Amenity: pharmacy, Coordinates: (28.6483093, 77.3152306)\n",
      "Name: Domino's, Amenity: fast_food, Coordinates: (28.6494182, 77.3062275)\n"
     ]
    }
   ],
   "source": [
    "import requests\n",
    "from geopy.geocoders import Nominatim\n",
    "from haversine import haversine\n",
    "\n",
    "# Function to geocode location name to coordinates\n",
    "def geocode_location(location_name):\n",
    "    geolocator = Nominatim(user_agent=\"geoapiExercises\")\n",
    "    location = geolocator.geocode(location_name)\n",
    "    if location:\n",
    "        return (location.latitude, location.longitude)\n",
    "    else:\n",
    "        raise ValueError(f\"Location '{location_name}' not found.\")\n",
    "\n",
    "# Function to find nearby places using Overpass API (OpenStreetMap)\n",
    "def find_nearby_places(lat, lon, radius):\n",
    "    overpass_url = \"http://overpass-api.de/api/interpreter\"\n",
    "    overpass_query = f\"\"\"\n",
    "    [out:json];\n",
    "    node\n",
    "      (around:{radius*1000},{lat},{lon})\n",
    "      [\"amenity\"];\n",
    "    out body;\n",
    "    \"\"\"\n",
    "    response = requests.get(overpass_url, params={'data': overpass_query})\n",
    "    data = response.json()\n",
    "    \n",
    "    places = []\n",
    "    for element in data['elements']:\n",
    "        place = {\n",
    "            \"name\": element.get('tags', {}).get('name', 'Unnamed'),\n",
    "            \"latitude\": element['lat'],\n",
    "            \"longitude\": element['lon'],\n",
    "            \"amenity\": element['tags'].get('amenity', 'N/A')\n",
    "        }\n",
    "        places.append(place)\n",
    "    \n",
    "    return places\n",
    "\n",
    "# Get user input for location name\n",
    "user_location_name = input(\"Enter your location: \")\n",
    "\n",
    "# Geocode the user's location name to coordinates\n",
    "try:\n",
    "    user_location = geocode_location(user_location_name)\n",
    "    print(f\"User location coordinates: {user_location}\")\n",
    "except ValueError as e:\n",
    "    print(e)\n",
    "    exit()\n",
    "\n",
    "# Define radius in kilometers\n",
    "radius = float(input(\"Enter the radius in kilometers: \"))\n",
    "\n",
    "# Find nearby places within the radius\n",
    "nearby_places = find_nearby_places(user_location[0], user_location[1], radius)\n",
    "\n",
    "# Print the results\n",
    "if nearby_places:\n",
    "    print(f\"Places within {radius} km of {user_location_name}:\")\n",
    "    for place in nearby_places:\n",
    "        print(f\"Name: {place['name']}, Amenity: {place['amenity']}, Coordinates: ({place['latitude']}, {place['longitude']})\")\n",
    "else:\n",
    "    print(f\"No places found within {radius} km of {user_location_name}.\")\n"
   ]
  },
  {
   "cell_type": "code",
   "execution_count": null,
   "id": "ebefa950",
   "metadata": {},
   "outputs": [],
   "source": []
  }
 ],
 "metadata": {
  "kernelspec": {
   "display_name": "Python 3 (ipykernel)",
   "language": "python",
   "name": "python3"
  },
  "language_info": {
   "codemirror_mode": {
    "name": "ipython",
    "version": 3
   },
   "file_extension": ".py",
   "mimetype": "text/x-python",
   "name": "python",
   "nbconvert_exporter": "python",
   "pygments_lexer": "ipython3",
   "version": "3.11.5"
  }
 },
 "nbformat": 4,
 "nbformat_minor": 5
}
