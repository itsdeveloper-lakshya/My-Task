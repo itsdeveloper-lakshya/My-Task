{
 "cells": [
  {
   "cell_type": "code",
   "execution_count": null,
   "id": "05f8b55b",
   "metadata": {},
   "outputs": [],
   "source": [
    "pip install pynput"
   ]
  },
  {
   "cell_type": "code",
   "execution_count": null,
   "id": "23891b40",
   "metadata": {},
   "outputs": [],
   "source": [
    "import cv2\n",
    "from cvzone.HandTrackingModule import HandDetector\n",
    "from pynput.keyboard import Key, Controller\n",
    "\n",
    "cap = cv2.VideoCapture(0)\n",
    "cap.set(3, 320)\n",
    "cap.set(4, 210)\n",
    "\n",
    "detector = HandDetector(detectionCon= 0.7, maxHands= 1)\n",
    "keyboard = Controller()\n",
    "\n",
    "while True:\n",
    "    _, img = cap.read()\n",
    "    hands, img = detector.findHands(img)\n",
    "\n",
    "    if hands:\n",
    "        finger = detector.fingersUp(hands[0])\n",
    "        if finger == [0,0,0,0,0]:\n",
    "            keyboard.press(Key.left)\n",
    "            keyboard.release(Key.right)\n",
    "\n",
    "        elif finger == [1,1,1,1,1]:\n",
    "            keyboard.press(Key.right)\n",
    "            keyboard.release(Key.left)\n",
    "       \n",
    "    else:\n",
    "        keyboard.release(Key.left)\n",
    "        keyboard.release(Key.right)\n",
    "        \n",
    "\n",
    "    cv2.imshow(\"game control\", img)\n",
    "    if cv2.waitKey(1) == ord (\"q\"):\n",
    "        break"
   ]
  },
  {
   "cell_type": "code",
   "execution_count": null,
   "id": "40533779",
   "metadata": {},
   "outputs": [],
   "source": []
  },
  {
   "cell_type": "code",
   "execution_count": null,
   "id": "6c4fef48",
   "metadata": {},
   "outputs": [],
   "source": []
  },
  {
   "cell_type": "code",
   "execution_count": null,
   "id": "0b8d5680",
   "metadata": {},
   "outputs": [],
   "source": []
  }
 ],
 "metadata": {
  "kernelspec": {
   "display_name": "Python 3 (ipykernel)",
   "language": "python",
   "name": "python3"
  },
  "language_info": {
   "codemirror_mode": {
    "name": "ipython",
    "version": 3
   },
   "file_extension": ".py",
   "mimetype": "text/x-python",
   "name": "python",
   "nbconvert_exporter": "python",
   "pygments_lexer": "ipython3",
   "version": "3.11.5"
  }
 },
 "nbformat": 4,
 "nbformat_minor": 5
}
